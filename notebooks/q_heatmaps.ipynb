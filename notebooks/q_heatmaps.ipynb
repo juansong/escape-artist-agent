{
 "cells": [
  {
   "attachments": {},
   "cell_type": "markdown",
   "metadata": {},
   "source": [
    "This notebook visualizes Q-values per action as heatmaps, making the agent's learned strategy interpretable."
   ]
  },
  {
   "cell_type": "code",
   "execution_count": null,
   "metadata": {},
   "outputs": [],
   "source": [
    "# notebooks/q_heatmaps.ipynb\n",
    "\n",
    "import numpy as np\n",
    "import matplotlib.pyplot as plt\n",
    "import seaborn as sns\n",
    "import pickle\n",
    "\n",
    "# Load saved Q-table (assuming it's saved with pickle in train_mc.py)\n",
    "with open(\"../logs/q_table.pkl\", \"rb\") as f:\n",
    "    Q = pickle.load(f)\n",
    "\n",
    "grid_size = int(np.sqrt(len(Q)))  # assume square gridworld\n",
    "actions = [\"↑\", \"→\", \"↓\", \"←\"]\n",
    "\n",
    "def plot_state_heatmaps(Q, grid_size):\n",
    "    fig, axs = plt.subplots(1, len(actions), figsize=(20, 5))\n",
    "    for a, action_name in enumerate(actions):\n",
    "        q_values = [Q.get((s, a), 0) for s in range(grid_size * grid_size)]\n",
    "        q_grid = np.array(q_values).reshape(grid_size, grid_size)\n",
    "        sns.heatmap(q_grid, annot=False, cmap=\"Blues\", ax=axs[a], cbar=True)\n",
    "        axs[a].set_title(f\"Action: {action_name}\")\n",
    "    plt.suptitle(\"Q(s,a) Heatmaps by Action\", fontsize=16)\n",
    "    plt.show()\n",
    "\n",
    "plot_state_heatmaps(Q, grid_size)\n"
   ]
  }
 ],
 "metadata": {
  "kernelspec": {
   "display_name": ".venv",
   "language": "python",
   "name": "python3"
  },
  "language_info": {
   "codemirror_mode": {
    "name": "ipython",
    "version": 3
   },
   "file_extension": ".py",
   "mimetype": "text/x-python",
   "name": "python",
   "nbconvert_exporter": "python",
   "pygments_lexer": "ipython3",
   "version": "3.9.6"
  },
  "orig_nbformat": 4,
  "vscode": {
   "interpreter": {
    "hash": "377159f360d08a90aca32e4d4047507e5f95ade9e01342f4bc746cfad2494158"
   }
  }
 },
 "nbformat": 4,
 "nbformat_minor": 2
}
