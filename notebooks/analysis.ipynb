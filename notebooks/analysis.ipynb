{
 "cells": [
  {
   "attachments": {},
   "cell_type": "markdown",
   "metadata": {},
   "source": [
    "This notebook generates `training_rewards.png`"
   ]
  },
  {
   "cell_type": "code",
   "execution_count": null,
   "metadata": {},
   "outputs": [],
   "source": [
    "# notebooks/analysis.ipynb\n",
    "\n",
    "import matplotlib.pyplot as plt\n",
    "import pandas as pd\n",
    "\n",
    "# Load training logs (assuming CSV with 'episode' and 'reward' columns)\n",
    "logs = pd.read_csv(\"../logs/training_log.csv\")\n",
    "\n",
    "plt.figure(figsize=(10,5))\n",
    "plt.plot(logs[\"episode\"], logs[\"reward\"], label=\"Episode Reward\", alpha=0.6)\n",
    "plt.plot(logs[\"episode\"], logs[\"reward\"].rolling(50).mean(), label=\"Moving Average (50)\", linewidth=2, color=\"red\")\n",
    "plt.xlabel(\"Episode\")\n",
    "plt.ylabel(\"Reward\")\n",
    "plt.title(\"Training Rewards Over Episodes\")\n",
    "plt.legend()\n",
    "plt.grid()\n",
    "plt.savefig(\"../docs/training_rewards.png\")\n",
    "plt.show()\n",
    "\n",
    "# Compute average return over last 100 episodes\n",
    "avg_return = logs[\"reward\"].tail(100).mean()\n",
    "print(f\"Average return (last 100 episodes): {avg_return:.2f}\")\n"
   ]
  }
 ],
 "metadata": {
  "kernelspec": {
   "display_name": "escape-agent",
   "language": "python",
   "name": "python3"
  },
  "language_info": {
   "codemirror_mode": {
    "name": "ipython",
    "version": 3
   },
   "file_extension": ".py",
   "mimetype": "text/x-python",
   "name": "python",
   "nbconvert_exporter": "python",
   "pygments_lexer": "ipython3",
   "version": "3.9.23"
  },
  "orig_nbformat": 4,
  "vscode": {
   "interpreter": {
    "hash": "6d7ea6db83b23ec987b8b804d22da2869373be15bc52f3306199222eac130f6b"
   }
  }
 },
 "nbformat": 4,
 "nbformat_minor": 2
}
